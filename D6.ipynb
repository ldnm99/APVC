{
 "cells": [
  {
   "cell_type": "code",
   "execution_count": 17,
   "id": "e9dbb752-75d1-4393-b284-817bbf158f27",
   "metadata": {},
   "outputs": [],
   "source": [
    "import pandas as pd\n",
    "import xml.etree.ElementTree as ET\n",
    "import cv2\n",
    "import os\n",
    "import cv2\n",
    "import numpy as np\n"
   ]
  },
  {
   "cell_type": "code",
   "execution_count": 68,
   "id": "e9578754-b558-4ca4-977b-71e203ee1870",
   "metadata": {},
   "outputs": [],
   "source": [
    "def getPoints(path):\n",
    "    tree = ET.parse(path)\n",
    "    root = tree.getroot()\n",
    "\n",
    "    points = []\n",
    "    for element in root.findall(\"./object/bndbox\"):\n",
    "\n",
    "        xmin = int(element.find('xmin').text)\n",
    "        ymin = int(element.find('ymin').text)\n",
    "\n",
    "        xmax = int(element.find('xmax').text)\n",
    "        ymax = int(element.find('ymax').text)\n",
    "\n",
    "        points.append([xmin,ymin,xmax,ymax])\n",
    "    \n",
    "    return points # [x1,y1,x2,y2]\n",
    "\n",
    "def drawRect(image,points):\n",
    "    for p in points:\n",
    "        image = cv2.rectangle(image,(p[0],p[1]),(p[2],p[3]),(0, 0, 255),2)\n",
    "    return image"
   ]
  },
  {
   "cell_type": "code",
   "execution_count": 69,
   "id": "aefd53a3-2861-4704-908c-816b2e22da3e",
   "metadata": {},
   "outputs": [],
   "source": [
    "path = \"dogs/labelimg/\"\n",
    "dir_list = os.listdir(path)\n",
    " \n",
    "for file in dir_list:\n",
    "    \n",
    "    if file.endswith('.xml'):\n",
    "        points = getPoints(path+file)\n",
    "        \n",
    "        path_jpg = path + file.split(\".xml\")[0] + \".jpg\"\n",
    "        image = cv2.imread(path_jpg)\n",
    "        image  = drawRect(image, points)\n",
    "        \n",
    "        cv2.imshow(\"\",image)\n",
    "        cv2.waitKey(0)\n",
    "        cv2.destroyAllWindows()\n",
    "        \n",
    " \n"
   ]
  },
  {
   "cell_type": "code",
   "execution_count": 70,
   "id": "81ceef87-e7a1-49bf-9659-bddb91260482",
   "metadata": {},
   "outputs": [],
   "source": [
    "# caminhios para os ficheiros de configuracao\n",
    "MODEL_FILE = \"config/frozen_inference_graph.pb\"\n",
    "CONFIG_FILE = \"config/ssd_mobilenet_v2_coco_2018_03_29.pbtxt.txt\"\n",
    "CLASS_FILE = \"config/object_detection_classes_coco.txt\"\n",
    "\n",
    "# valor de limiar miniar para considerar que as predicoes sao de fato objetos\n",
    "CONFIDENCE_THRESHOLD = 0.5\n",
    "\n",
    "# ler os nomes das classes\n",
    "with open(CLASS_FILE, 'r') as f:\n",
    "    class_names = f.read().split('\\n') \n",
    "    \n",
    "# gerar cores aleatoriamente para cada uma das classes\n",
    "COLORS = np.random.uniform(0, 255, size=(len(class_names), 3))\n",
    "\n",
    "# carregar o modelo (neste caso o SSD)\n",
    "SSDmodel = cv2.dnn.readNet(model=MODEL_FILE, config=CONFIG_FILE, framework=\"TensorFlow\")"
   ]
  },
  {
   "cell_type": "code",
   "execution_count": 74,
   "id": "cd301e2c-970f-436b-ad50-41dc3be8f930",
   "metadata": {},
   "outputs": [
    {
     "name": "stdout",
     "output_type": "stream",
     "text": [
      "[[50, 7, 277, 440]]\n",
      "0.906594389886459\n",
      "[[18, 25, 482, 500]]\n",
      "0.953031547883198\n",
      "[[40, 16, 372, 495]]\n",
      "0.8571736248133314\n",
      "[[42, 8, 333, 483]]\n",
      "0.8642287484669343\n",
      "[[32, 66, 484, 323]]\n",
      "0.9415995429891003\n",
      "[[67, 104, 128, 168]]\n",
      "0.29761989415938206\n",
      "[[95, 19, 207, 160]]\n",
      "0.7496994336035187\n",
      "[[269, 303, 730, 598]]\n",
      "0.9434787556376647\n",
      "[[123, 45, 210, 183], [42, 45, 125, 185]]\n",
      "0.07813865536584842\n",
      "[[123, 45, 210, 183], [42, 45, 125, 185]]\n",
      "0.047544316499723294\n",
      "[[23, 57, 129, 193], [131, 9, 234, 198]]\n",
      "0.9062651876042656\n",
      "[[23, 57, 129, 193], [131, 9, 234, 198]]\n",
      "0.8092336397798787\n",
      "3\n"
     ]
    }
   ],
   "source": [
    "path_images = \"dogs/images/\"\n",
    "dir_list_images = os.listdir(path_images)\n",
    "\n",
    "tp = 0\n",
    "fp = 0 \n",
    "    \n",
    "for img_name in dir_list_images:\n",
    "    count = 0\n",
    "    img = cv2.imread(path_images+img_name)\n",
    "    img_height, img_width, img_channels = img.shape\n",
    "    \n",
    "    # normalizar com blobFromImage - 300x300 serao as dimensoes das imagens enviadas 'a rede\n",
    "    blob = cv2.dnn.blobFromImage(image=img, size=(300, 300), swapRB=True)\n",
    "    SSDmodel.setInput(blob)\n",
    "    output = SSDmodel.forward()\n",
    "    \n",
    "    for detection in output[0, 0, :, :]:\n",
    "\n",
    "        # oter o indice de confianca na detecao\n",
    "        confidence = detection[2]\n",
    "        \n",
    "        if confidence > CONFIDENCE_THRESHOLD:\n",
    "\n",
    "            # obter a classe\n",
    "            class_id = detection[1]\n",
    "            class_name = class_names[int(class_id) - 1]\n",
    "            color = COLORS[int(class_id)]\n",
    "            \n",
    "            if class_name == 'dog':            \n",
    "                            \n",
    "                # obter as coordenadas e dimensoes das bounding boxes, normalizadas para coordenadas da imagem\n",
    "                bbox_x = detection[3] * img_width\n",
    "                bbox_y = detection[4] * img_height\n",
    "                bbox_width = detection[5] * img_width\n",
    "                bbox_height = detection[6] * img_height\n",
    "               \n",
    "                # [x1,y1,x2,y2]\n",
    "                box_SSDmodel = [bbox_x , bbox_y , bbox_width , bbox_height]\n",
    "                \n",
    "                path_xml = path + img_name.split(\".jpg\")[0] + \".xml\"\n",
    "                \n",
    "                \n",
    "                temp = getPoints(path_xml)\n",
    "                print(temp)\n",
    "                if len(temp) > 1:\n",
    "                    box_labelImg =  temp[count]\n",
    "                    count += 1\n",
    "                else:\n",
    "                     box_labelImg =  temp[0]\n",
    "                \n",
    "                \n",
    "                iou = get_iou(box_labelImg, box_SSDmodel)\n",
    "                print(iou)\n",
    "                if iou < 0.5:\n",
    "                    fp += 1\n",
    "\n",
    "                # colocar retangulos e texto a marcar os objetos identificados\n",
    "                cv2.rectangle(img, (int(bbox_x), int(bbox_y)), (int(bbox_width), int(bbox_height)), color, thickness=2)\n",
    "                cv2.putText(img, class_name, (int(bbox_x), int(bbox_y - 5)), cv2.FONT_HERSHEY_SIMPLEX, 1, color, 2)\n",
    "\n",
    "    cv2.imshow('output', img)\n",
    "    cv2.waitKey(0)\n",
    "    cv2.destroyAllWindows()\n",
    "print(fp)"
   ]
  },
  {
   "cell_type": "code",
   "execution_count": 23,
   "id": "c3ea843d-f56b-4cc5-85a1-36caa1aba987",
   "metadata": {},
   "outputs": [
    {
     "name": "stdout",
     "output_type": "stream",
     "text": [
      "Precision: 1.0\n"
     ]
    }
   ],
   "source": [
    "total_dogs = 13\n",
    "fp = 0\n",
    "precision = tp/(tp+fp)\n",
    "print(\"Precision:\",precision)"
   ]
  },
  {
   "cell_type": "code",
   "execution_count": null,
   "id": "44c54d96-f7a2-41f0-984d-1412d44ec564",
   "metadata": {},
   "outputs": [],
   "source": [
    "recall = tp / (tp+fn)"
   ]
  },
  {
   "cell_type": "code",
   "execution_count": 22,
   "id": "cdc3a808-2a08-4937-be4f-6bbbc3fc8f3b",
   "metadata": {},
   "outputs": [
    {
     "data": {
      "text/plain": [
       "13"
      ]
     },
     "execution_count": 22,
     "metadata": {},
     "output_type": "execute_result"
    }
   ],
   "source": [
    "(tp+fp)"
   ]
  },
  {
   "cell_type": "code",
   "execution_count": 39,
   "id": "3d20b419-b140-4406-ae2a-a82043a5f490",
   "metadata": {},
   "outputs": [],
   "source": [
    "def calc_precision_recall(image_results):\n",
    "    \"\"\"Calculates precision and recall from the set of images\n",
    "    Args:\n",
    "        img_results (dict): dictionary formatted like:\n",
    "            {\n",
    "                'img_id1': {'true_pos': int, 'false_pos': int, 'false_neg': int},\n",
    "                'img_id2': ...\n",
    "                ...\n",
    "            }\n",
    "    Returns:\n",
    "        tuple: of floats of (precision, recall)\n",
    "    \"\"\"\n",
    "    true_positive=0\n",
    "    false_positive=0\n",
    "    false_negative=0\n",
    "    for img_id, res in image_results.items():\n",
    "        true_positive +=res['true_positive']\n",
    "        false_positive += res['false_positive']\n",
    "        false_negative += res['false_negative']\n",
    "        try:\n",
    "            precision = true_positive/(true_positive+ false_positive)\n",
    "        except ZeroDivisionError:\n",
    "            precision=0.0\n",
    "        try:\n",
    "            recall = true_positive/(true_positive + false_negative)\n",
    "        except ZeroDivisionError:\n",
    "            recall=0.0\n",
    "    return (precision, recall)"
   ]
  },
  {
   "cell_type": "code",
   "execution_count": 51,
   "id": "6f0bb530-604a-4ce5-a8fe-8ea19e738b30",
   "metadata": {},
   "outputs": [],
   "source": [
    "def get_iou(a, b, epsilon=1e-5):\n",
    "    \"\"\" Given two boxes `a` and `b` defined as a list of four numbers:\n",
    "            [x1,y1,x2,y2]\n",
    "        where:\n",
    "            x1,y1 represent the upper left corner\n",
    "            x2,y2 represent the lower right corner\n",
    "        It returns the Intersect of Union score for these two boxes.\n",
    "\n",
    "    Args:\n",
    "        a:          (list of 4 numbers) [x1,y1,x2,y2]\n",
    "        b:          (list of 4 numbers) [x1,y1,x2,y2]\n",
    "        epsilon:    (float) Small value to prevent division by zero\n",
    "\n",
    "    Returns:\n",
    "        (float) The Intersect of Union score.\n",
    "    \"\"\"\n",
    "    # COORDINATES OF THE INTERSECTION BOX\n",
    "    x1 = max(a[0], b[0])\n",
    "    y1 = max(a[1], b[1])\n",
    "    x2 = min(a[2], b[2])\n",
    "    y2 = min(a[3], b[3])\n",
    "    # AREA OF OVERLAP - Area where the boxes intersect\n",
    "    width = (x2 - x1)\n",
    "    height = (y2 - y1)\n",
    "    # handle case where there is NO overlap\n",
    "    if (width<0) or (height <0):\n",
    "        return 0.0\n",
    "    area_overlap = width * height\n",
    "\n",
    "    # COMBINED AREA\n",
    "    area_a = (a[2] - a[0]) * (a[3] - a[1])\n",
    "    area_b = (b[2] - b[0]) * (b[3] - b[1])\n",
    "    area_combined = area_a + area_b - area_overlap\n",
    "    \n",
    "    # RATIO OF AREA OF OVERLAP OVER COMBINED AREA\n",
    "    iou = area_overlap / (area_combined+epsilon)\n",
    "    return iou"
   ]
  },
  {
   "cell_type": "code",
   "execution_count": null,
   "id": "b8cf79a3-084a-4198-bb98-f8fd8a4a1b8f",
   "metadata": {},
   "outputs": [],
   "source": []
  }
 ],
 "metadata": {
  "kernelspec": {
   "display_name": "Python 3 (ipykernel)",
   "language": "python",
   "name": "python3"
  },
  "language_info": {
   "codemirror_mode": {
    "name": "ipython",
    "version": 3
   },
   "file_extension": ".py",
   "mimetype": "text/x-python",
   "name": "python",
   "nbconvert_exporter": "python",
   "pygments_lexer": "ipython3",
   "version": "3.10.9"
  }
 },
 "nbformat": 4,
 "nbformat_minor": 5
}
